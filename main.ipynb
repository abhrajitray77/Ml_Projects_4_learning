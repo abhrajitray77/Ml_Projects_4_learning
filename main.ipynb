{
 "cells": [
  {
   "cell_type": "code",
   "execution_count": 14,
   "metadata": {},
   "outputs": [],
   "source": [
    "import numpy as np\n",
    "import matplotlib.pyplot as plt\n",
    "import keras\n",
    "import tensorflow as tf\n",
    "from tensorflow.keras.datasets import mnist\n",
    "from tensorflow.keras.models import Sequential\n",
    "from tensorflow.keras.layers import Dense, Conv2D, MaxPool2D, Flatten, Dropout"
   ]
  },
  {
   "cell_type": "code",
   "execution_count": 9,
   "metadata": {},
   "outputs": [
    {
     "name": "stdout",
     "output_type": "stream",
     "text": [
      "Downloading data from https://storage.googleapis.com/tensorflow/tf-keras-datasets/mnist.npz\n",
      "11490434/11490434 [==============================] - 2s 0us/step\n"
     ]
    },
    {
     "data": {
      "text/plain": [
       "((60000, 28, 28), (60000,), (10000, 28, 28), (10000,))"
      ]
     },
     "execution_count": 9,
     "metadata": {},
     "output_type": "execute_result"
    }
   ],
   "source": [
    "# getting the data and pre processessing it\n",
    "\n",
    "(X_train, y_train), (X_test, y_test) = keras.datasets.mnist.load_data()\n",
    "\n",
    "X_train.shape , y_train.shape , X_test.shape , y_test.shape"
   ]
  },
  {
   "cell_type": "code",
   "execution_count": 10,
   "metadata": {},
   "outputs": [],
   "source": [
    "def plot_input_img(i):\n",
    "  plt.imshow(X_train[i], cmap = 'binary')\n",
    "  plt.title(y_train[i])\n",
    "  plt.show()"
   ]
  },
  {
   "cell_type": "code",
   "execution_count": 11,
   "metadata": {},
   "outputs": [],
   "source": [
    "#pre processing the images\n",
    "\n",
    "X_train = X_train.astype(np.float32)/255\n",
    "X_test = X_test.astype(np.float32)/255"
   ]
  },
  {
   "cell_type": "code",
   "execution_count": 12,
   "metadata": {},
   "outputs": [],
   "source": [
    "# reshape / expand the dimensions of images to (28,28,1)\n",
    "X_train = np.expand_dims(X_train, -1)\n",
    "X_test = np.expand_dims(X_test, -1)\n",
    "\n",
    "# covert classes to one hot vector\n",
    "\n",
    "y_train = keras.utils.to_categorical(y_train)\n",
    "\n",
    "y_test = keras.utils.to_categorical(y_test)"
   ]
  },
  {
   "cell_type": "code",
   "execution_count": 15,
   "metadata": {},
   "outputs": [],
   "source": [
    "model = Sequential()\n",
    "\n",
    "model.add(Conv2D(32, (3, 3), input_shape = (28,28,1), activation = 'relu'))\n",
    "model.add(MaxPool2D((2,2)))\n",
    "\n",
    "model.add(Conv2D(64, (3,3), activation='relu'))\n",
    "model.add(MaxPool2D((2,2)))\n",
    "\n",
    "model.add(Flatten())\n",
    "\n",
    "model.add(Dropout(0.25))\n",
    "\n",
    "model.add(Dense(10, activation='softmax'))"
   ]
  },
  {
   "cell_type": "code",
   "execution_count": 16,
   "metadata": {},
   "outputs": [
    {
     "name": "stdout",
     "output_type": "stream",
     "text": [
      "Model: \"sequential_1\"\n",
      "_________________________________________________________________\n",
      " Layer (type)                Output Shape              Param #   \n",
      "=================================================================\n",
      " conv2d_1 (Conv2D)           (None, 26, 26, 32)        320       \n",
      "                                                                 \n",
      " max_pooling2d (MaxPooling2  (None, 13, 13, 32)        0         \n",
      " D)                                                              \n",
      "                                                                 \n",
      " conv2d_2 (Conv2D)           (None, 11, 11, 64)        18496     \n",
      "                                                                 \n",
      " max_pooling2d_1 (MaxPoolin  (None, 5, 5, 64)          0         \n",
      " g2D)                                                            \n",
      "                                                                 \n",
      " flatten (Flatten)           (None, 1600)              0         \n",
      "                                                                 \n",
      " dropout (Dropout)           (None, 1600)              0         \n",
      "                                                                 \n",
      " dense (Dense)               (None, 10)                16010     \n",
      "                                                                 \n",
      "=================================================================\n",
      "Total params: 34826 (136.04 KB)\n",
      "Trainable params: 34826 (136.04 KB)\n",
      "Non-trainable params: 0 (0.00 Byte)\n",
      "_________________________________________________________________\n"
     ]
    }
   ],
   "source": [
    "model.summary()"
   ]
  },
  {
   "cell_type": "code",
   "execution_count": 17,
   "metadata": {},
   "outputs": [],
   "source": [
    "model.compile(optimizer='adam', loss= keras.losses.categorical_crossentropy, metrics=['accuracy'])"
   ]
  },
  {
   "cell_type": "code",
   "execution_count": 18,
   "metadata": {},
   "outputs": [],
   "source": [
    "# callbacks\n",
    "\n",
    "from keras.callbacks import EarlyStopping, ModelCheckpoint\n",
    "\n",
    "# Early Stopping\n",
    "\n",
    "es = EarlyStopping(monitor='val_accuracy', min_delta= 0.01, patience= 4, verbose= 1 )\n",
    "\n",
    "# Model Check Point\n",
    "\n",
    "mc = ModelCheckpoint(\"./bestmodel.h5\", monitor= \"val_accuracy\", verbose= 1, save_best_only= True)\n",
    "\n",
    "cb = [es, mc]"
   ]
  },
  {
   "cell_type": "code",
   "execution_count": 19,
   "metadata": {},
   "outputs": [
    {
     "name": "stdout",
     "output_type": "stream",
     "text": [
      "Epoch 1/5\n",
      "1309/1313 [============================>.] - ETA: 0s - loss: 0.2094 - accuracy: 0.9367\n",
      "Epoch 1: val_accuracy improved from -inf to 0.97594, saving model to .\\bestmodel.h5\n",
      "1313/1313 [==============================] - 14s 10ms/step - loss: 0.2091 - accuracy: 0.9368 - val_loss: 0.0794 - val_accuracy: 0.9759\n",
      "Epoch 2/5\n",
      "  19/1313 [..............................] - ETA: 11s - loss: 0.0635 - accuracy: 0.9803"
     ]
    },
    {
     "name": "stderr",
     "output_type": "stream",
     "text": [
      "d:\\vscodeProjs\\MLHandwriting\\myenv\\Lib\\site-packages\\keras\\src\\engine\\training.py:3000: UserWarning: You are saving your model as an HDF5 file via `model.save()`. This file format is considered legacy. We recommend using instead the native Keras format, e.g. `model.save('my_model.keras')`.\n",
      "  saving_api.save_model(\n"
     ]
    },
    {
     "name": "stdout",
     "output_type": "stream",
     "text": [
      "1312/1313 [============================>.] - ETA: 0s - loss: 0.0742 - accuracy: 0.9770\n",
      "Epoch 2: val_accuracy improved from 0.97594 to 0.98317, saving model to .\\bestmodel.h5\n",
      "1313/1313 [==============================] - 13s 10ms/step - loss: 0.0742 - accuracy: 0.9770 - val_loss: 0.0565 - val_accuracy: 0.9832\n",
      "Epoch 3/5\n",
      "1313/1313 [==============================] - ETA: 0s - loss: 0.0562 - accuracy: 0.9821\n",
      "Epoch 3: val_accuracy improved from 0.98317 to 0.98506, saving model to .\\bestmodel.h5\n",
      "1313/1313 [==============================] - 14s 10ms/step - loss: 0.0562 - accuracy: 0.9821 - val_loss: 0.0504 - val_accuracy: 0.9851\n",
      "Epoch 4/5\n",
      "1308/1313 [============================>.] - ETA: 0s - loss: 0.0445 - accuracy: 0.9861\n",
      "Epoch 4: val_accuracy improved from 0.98506 to 0.98700, saving model to .\\bestmodel.h5\n",
      "1313/1313 [==============================] - 13s 10ms/step - loss: 0.0445 - accuracy: 0.9861 - val_loss: 0.0421 - val_accuracy: 0.9870\n",
      "Epoch 5/5\n",
      "1312/1313 [============================>.] - ETA: 0s - loss: 0.0375 - accuracy: 0.9884\n",
      "Epoch 5: val_accuracy improved from 0.98700 to 0.98728, saving model to .\\bestmodel.h5\n",
      "1313/1313 [==============================] - 14s 10ms/step - loss: 0.0375 - accuracy: 0.9884 - val_loss: 0.0417 - val_accuracy: 0.9873\n"
     ]
    }
   ],
   "source": [
    "his = model.fit(X_train, y_train, epochs= 5, validation_split= 0.3, callbacks= cb )"
   ]
  },
  {
   "cell_type": "code",
   "execution_count": 20,
   "metadata": {},
   "outputs": [],
   "source": [
    "model_S = keras.models.load_model(\"./bestmodel.h5\")"
   ]
  },
  {
   "cell_type": "code",
   "execution_count": 21,
   "metadata": {},
   "outputs": [
    {
     "name": "stdout",
     "output_type": "stream",
     "text": [
      "313/313 [==============================] - 1s 3ms/step - loss: 0.0327 - accuracy: 0.9896\n",
      " the model accuracy is 0.9896000027656555\n"
     ]
    }
   ],
   "source": [
    "score = model_S.evaluate(X_test, y_test)\n",
    "\n",
    "print(f\" the model accuracy is {score[1]}\")"
   ]
  }
 ],
 "metadata": {
  "kernelspec": {
   "display_name": "Python 3",
   "language": "python",
   "name": "python3"
  },
  "language_info": {
   "codemirror_mode": {
    "name": "ipython",
    "version": 3
   },
   "file_extension": ".py",
   "mimetype": "text/x-python",
   "name": "python",
   "nbconvert_exporter": "python",
   "pygments_lexer": "ipython3",
   "version": "3.11.4"
  },
  "orig_nbformat": 4
 },
 "nbformat": 4,
 "nbformat_minor": 2
}
